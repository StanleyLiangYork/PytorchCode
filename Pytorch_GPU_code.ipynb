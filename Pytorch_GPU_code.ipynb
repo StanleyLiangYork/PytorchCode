{
  "nbformat": 4,
  "nbformat_minor": 0,
  "metadata": {
    "colab": {
      "provenance": [],
      "authorship_tag": "ABX9TyP2nbGAbpBAiKZyzAuclc+2",
      "include_colab_link": true
    },
    "kernelspec": {
      "name": "python3",
      "display_name": "Python 3"
    },
    "language_info": {
      "name": "python"
    },
    "accelerator": "GPU",
    "gpuClass": "premium"
  },
  "cells": [
    {
      "cell_type": "markdown",
      "metadata": {
        "id": "view-in-github",
        "colab_type": "text"
      },
      "source": [
        "<a href=\"https://colab.research.google.com/github/StanleyLiangYork/PytorchCode/blob/main/Pytorch_GPU_code.ipynb\" target=\"_parent\"><img src=\"https://colab.research.google.com/assets/colab-badge.svg\" alt=\"Open In Colab\"/></a>"
      ]
    },
    {
      "cell_type": "code",
      "execution_count": 1,
      "metadata": {
        "id": "s3MRXEErzH4c"
      },
      "outputs": [],
      "source": [
        "import numpy as np\n",
        "import torch\n",
        "import torch.nn as nn\n",
        "import torch.optim as optim\n",
        "import torch.utils.data as data"
      ]
    },
    {
      "cell_type": "code",
      "source": [
        "!wget https://storage.googleapis.com/pet-detect-239118/dataset/wonderland.txt /content/wonderland.txt"
      ],
      "metadata": {
        "colab": {
          "base_uri": "https://localhost:8080/"
        },
        "id": "ky8WF54WVk6L",
        "outputId": "1d32b7d3-2543-400f-c4c3-94d62c1a6e5a"
      },
      "execution_count": 2,
      "outputs": [
        {
          "output_type": "stream",
          "name": "stdout",
          "text": [
            "--2023-03-27 01:36:04--  https://storage.googleapis.com/pet-detect-239118/dataset/wonderland.txt\n",
            "Resolving storage.googleapis.com (storage.googleapis.com)... 142.251.2.128, 142.250.141.128, 2607:f8b0:4023:c0b::80, ...\n",
            "Connecting to storage.googleapis.com (storage.googleapis.com)|142.251.2.128|:443... connected.\n",
            "HTTP request sent, awaiting response... 200 OK\n",
            "Length: 147674 (144K) [text/plain]\n",
            "Saving to: ‘wonderland.txt’\n",
            "\n",
            "wonderland.txt      100%[===================>] 144.21K  --.-KB/s    in 0.002s  \n",
            "\n",
            "2023-03-27 01:36:04 (76.2 MB/s) - ‘wonderland.txt’ saved [147674/147674]\n",
            "\n",
            "/content/wonderland.txt: Scheme missing.\n",
            "FINISHED --2023-03-27 01:36:04--\n",
            "Total wall clock time: 0.4s\n",
            "Downloaded: 1 files, 144K in 0.002s (76.2 MB/s)\n"
          ]
        }
      ]
    },
    {
      "cell_type": "markdown",
      "source": [
        "load ascii text and covert to lowercase"
      ],
      "metadata": {
        "id": "WtG9GH7YV6-C"
      }
    },
    {
      "cell_type": "code",
      "source": [
        "filename = \"wonderland.txt\"\n",
        "raw_text = open(filename, 'r', encoding='utf-8').read()\n",
        "raw_text = raw_text.lower()"
      ],
      "metadata": {
        "id": "rr5b1jrYVzs6"
      },
      "execution_count": 3,
      "outputs": []
    },
    {
      "cell_type": "markdown",
      "source": [
        "create mapping of unique chars to integers"
      ],
      "metadata": {
        "id": "hWVlOLwpWDVN"
      }
    },
    {
      "cell_type": "code",
      "source": [
        "chars = sorted(list(set(raw_text)))\n",
        "char_to_int = dict((c, i) for i, c in enumerate(chars))"
      ],
      "metadata": {
        "id": "uMcZXolfV9UF"
      },
      "execution_count": 4,
      "outputs": []
    },
    {
      "cell_type": "markdown",
      "source": [
        "summarize the loaded data"
      ],
      "metadata": {
        "id": "jOT-PdufWTKF"
      }
    },
    {
      "cell_type": "code",
      "source": [
        "n_chars = len(raw_text)\n",
        "n_vocab = len(chars)\n",
        "print(\"Total Characters: \", n_chars)\n",
        "print(\"Total Vocab: \", n_vocab)"
      ],
      "metadata": {
        "colab": {
          "base_uri": "https://localhost:8080/"
        },
        "id": "PLiL3ihTV9YG",
        "outputId": "83871dff-9edc-4353-90cd-84254f64a70d"
      },
      "execution_count": 5,
      "outputs": [
        {
          "output_type": "stream",
          "name": "stdout",
          "text": [
            "Total Characters:  144343\n",
            "Total Vocab:  44\n"
          ]
        }
      ]
    },
    {
      "cell_type": "code",
      "source": [
        "seq_length = 100\n",
        "dataX = []\n",
        "dataY = []"
      ],
      "metadata": {
        "id": "K9PSK6q-WXVZ"
      },
      "execution_count": 6,
      "outputs": []
    },
    {
      "cell_type": "code",
      "source": [
        "for i in range(0, n_chars - seq_length, 1):\n",
        "  seq_in = raw_text[i:i + seq_length]\n",
        "  seq_out = raw_text[i + seq_length]\n",
        "  dataX.append([char_to_int[char] for char in seq_in])\n",
        "  dataY.append(char_to_int[seq_out])\n",
        " \n",
        "n_patterns = len(dataX)\n",
        "print(\"Total Patterns: \", n_patterns)"
      ],
      "metadata": {
        "colab": {
          "base_uri": "https://localhost:8080/"
        },
        "id": "JBdeLCblWZ4G",
        "outputId": "a22aa420-5493-45b9-8ead-b3a112f0349b"
      },
      "execution_count": 7,
      "outputs": [
        {
          "output_type": "stream",
          "name": "stdout",
          "text": [
            "Total Patterns:  144243\n"
          ]
        }
      ]
    },
    {
      "cell_type": "markdown",
      "source": [
        "reshape X to be [samples, time steps, features]"
      ],
      "metadata": {
        "id": "vXLWUshqWyon"
      }
    },
    {
      "cell_type": "code",
      "source": [
        "X = torch.tensor(dataX, dtype=torch.float32).reshape(n_patterns, seq_length, 1)\n",
        "X = X / float(n_vocab)\n",
        "y = torch.tensor(dataY)"
      ],
      "metadata": {
        "id": "9kPmViCIWuZ2"
      },
      "execution_count": 8,
      "outputs": []
    },
    {
      "cell_type": "markdown",
      "source": [
        "Define the NN to predict char sequence"
      ],
      "metadata": {
        "id": "Pw3eIwIadQCe"
      }
    },
    {
      "cell_type": "code",
      "source": [
        "class CharModel(nn.Module):\n",
        "  def __init__(self):\n",
        "    super().__init__()\n",
        "    self.lstm = nn.LSTM(input_size=1, hidden_size=256, num_layers=2, batch_first=True, dropout=0.2)\n",
        "    self.dropout = nn.Dropout(0.2)\n",
        "    self.linear = nn.Linear(256, n_vocab)\n",
        "\n",
        "  def forward(self,x):\n",
        "    x, _ = self.lstm(x)\n",
        "    # keep the last output\n",
        "    x = x[:, -1, :]\n",
        "    # get the output\n",
        "    x = self.linear(self.dropout(x))\n",
        "    return x"
      ],
      "metadata": {
        "id": "eO-lhu0mdIz0"
      },
      "execution_count": 9,
      "outputs": []
    },
    {
      "cell_type": "markdown",
      "source": [
        "Setup the training configurations"
      ],
      "metadata": {
        "id": "474QpLyxkVa5"
      }
    },
    {
      "cell_type": "code",
      "source": [
        "n_epochs = 40\n",
        "batch_size = 128\n",
        "model = CharModel()"
      ],
      "metadata": {
        "id": "4JHmyiAbkaHG"
      },
      "execution_count": 10,
      "outputs": []
    },
    {
      "cell_type": "markdown",
      "source": [
        "Load the model to GPU"
      ],
      "metadata": {
        "id": "8tExbZvEkePG"
      }
    },
    {
      "cell_type": "code",
      "source": [
        "device = torch.device(\"cuda:0\" if torch.cuda.is_available() else \"cpu\")\n",
        "model.to(device)"
      ],
      "metadata": {
        "colab": {
          "base_uri": "https://localhost:8080/"
        },
        "id": "7UgFxOvSkgXH",
        "outputId": "d442f278-4a68-4f0b-a7f1-a0d2672b1cbe"
      },
      "execution_count": 11,
      "outputs": [
        {
          "output_type": "execute_result",
          "data": {
            "text/plain": [
              "CharModel(\n",
              "  (lstm): LSTM(1, 256, num_layers=2, batch_first=True, dropout=0.2)\n",
              "  (dropout): Dropout(p=0.2, inplace=False)\n",
              "  (linear): Linear(in_features=256, out_features=44, bias=True)\n",
              ")"
            ]
          },
          "metadata": {},
          "execution_count": 11
        }
      ]
    },
    {
      "cell_type": "code",
      "source": [
        "optimizer = optim.Adam(model.parameters())\n",
        "loss_fn = nn.CrossEntropyLoss(reduction=\"sum\")"
      ],
      "metadata": {
        "id": "YWqS4_YAkklM"
      },
      "execution_count": 12,
      "outputs": []
    },
    {
      "cell_type": "code",
      "source": [
        "loader = data.DataLoader(data.TensorDataset(X, y), shuffle=True, batch_size=batch_size)"
      ],
      "metadata": {
        "id": "FEHqt64wkrJW"
      },
      "execution_count": 13,
      "outputs": []
    },
    {
      "cell_type": "code",
      "source": [
        "best_model = None\n",
        "best_loss = np.inf"
      ],
      "metadata": {
        "id": "cT2JIHPkkvzh"
      },
      "execution_count": 14,
      "outputs": []
    },
    {
      "cell_type": "markdown",
      "source": [
        "Training setup"
      ],
      "metadata": {
        "id": "5_rPvrYak9Yx"
      }
    },
    {
      "cell_type": "code",
      "source": [
        "for epoch in range(n_epochs):\n",
        "  model.train()  # set the model to train status\n",
        "  for X_batch, y_batch in loader:\n",
        "    y_pred = model(X_batch.to(device))\n",
        "    loss = loss_fn(y_pred, y_batch.to(device)) # the predictions from the model already loaded to GPU\n",
        "    optimizer.zero_grad()\n",
        "    loss.backward()  # get the gradients\n",
        "    optimizer.step() # update the model parameters\n",
        "  # validation\n",
        "  model.eval() # set the model to validation status\n",
        "  loss = 0\n",
        "  with torch.no_grad():\n",
        "    for X_batch, y_batch in loader:\n",
        "      y_pred = model(X_batch.to(device))\n",
        "      loss += loss_fn(y_pred, y_batch.to(device))\n",
        "    if loss < best_loss:\n",
        "      best_loss = loss\n",
        "      best_model = model.state_dict()\n",
        "    print(\"Epoch {0:3d} ---- Cross-entropy: {1:.4f}\".format(epoch, loss))\n",
        "\n",
        "torch.save([best_model, char_to_int], \"single_char.pth\")"
      ],
      "metadata": {
        "colab": {
          "base_uri": "https://localhost:8080/"
        },
        "id": "3-bONlz8k-7M",
        "outputId": "0ba0cc2b-d6ee-4999-9e8b-9dc8525ec8ed"
      },
      "execution_count": 15,
      "outputs": [
        {
          "output_type": "stream",
          "name": "stdout",
          "text": [
            "Epoch   0 ---- Cross-entropy: 370408.9062\n",
            "Epoch   1 ---- Cross-entropy: 335101.7500\n",
            "Epoch   2 ---- Cross-entropy: 307116.9688\n",
            "Epoch   3 ---- Cross-entropy: 290256.0625\n",
            "Epoch   4 ---- Cross-entropy: 278854.0938\n",
            "Epoch   5 ---- Cross-entropy: 266216.2188\n",
            "Epoch   6 ---- Cross-entropy: 258698.7969\n",
            "Epoch   7 ---- Cross-entropy: 249898.6875\n",
            "Epoch   8 ---- Cross-entropy: 242281.6875\n",
            "Epoch   9 ---- Cross-entropy: 237606.3281\n",
            "Epoch  10 ---- Cross-entropy: 232543.5469\n",
            "Epoch  11 ---- Cross-entropy: 225036.1094\n",
            "Epoch  12 ---- Cross-entropy: 222755.3125\n",
            "Epoch  13 ---- Cross-entropy: 216147.2031\n",
            "Epoch  14 ---- Cross-entropy: 222699.9844\n",
            "Epoch  15 ---- Cross-entropy: 210128.2500\n",
            "Epoch  16 ---- Cross-entropy: 204254.7812\n",
            "Epoch  17 ---- Cross-entropy: 202858.9531\n",
            "Epoch  18 ---- Cross-entropy: 198820.5312\n",
            "Epoch  19 ---- Cross-entropy: 195927.2500\n",
            "Epoch  20 ---- Cross-entropy: 192171.2031\n",
            "Epoch  21 ---- Cross-entropy: 190451.5625\n",
            "Epoch  22 ---- Cross-entropy: 187806.9062\n",
            "Epoch  23 ---- Cross-entropy: 186421.8125\n",
            "Epoch  24 ---- Cross-entropy: 183691.2031\n",
            "Epoch  25 ---- Cross-entropy: 179923.3125\n",
            "Epoch  26 ---- Cross-entropy: 178964.7188\n",
            "Epoch  27 ---- Cross-entropy: 176306.9531\n",
            "Epoch  28 ---- Cross-entropy: 173571.7031\n",
            "Epoch  29 ---- Cross-entropy: 172462.6562\n",
            "Epoch  30 ---- Cross-entropy: 172377.9375\n",
            "Epoch  31 ---- Cross-entropy: 168434.7812\n",
            "Epoch  32 ---- Cross-entropy: 177144.8438\n",
            "Epoch  33 ---- Cross-entropy: 164902.4688\n",
            "Epoch  34 ---- Cross-entropy: 162953.2656\n",
            "Epoch  35 ---- Cross-entropy: 162728.1250\n",
            "Epoch  36 ---- Cross-entropy: 162596.8906\n",
            "Epoch  37 ---- Cross-entropy: 158571.5156\n",
            "Epoch  38 ---- Cross-entropy: 160881.1719\n",
            "Epoch  39 ---- Cross-entropy: 158215.0156\n"
          ]
        }
      ]
    },
    {
      "cell_type": "markdown",
      "source": [
        "Generate text by the best model"
      ],
      "metadata": {
        "id": "0bt7otgqwF9H"
      }
    },
    {
      "cell_type": "code",
      "source": [
        "best_model, char_to_int = torch.load(\"single_char.pth\")\n",
        "n_vocab = len(char_to_int)"
      ],
      "metadata": {
        "id": "eeJyF5_jnQ9k"
      },
      "execution_count": 16,
      "outputs": []
    },
    {
      "cell_type": "code",
      "source": [
        "int_to_char = dict((i,c) for c, i in char_to_int.items())\n",
        "model.load_state_dict(best_model)"
      ],
      "metadata": {
        "colab": {
          "base_uri": "https://localhost:8080/"
        },
        "id": "rj0HAo2JwWFh",
        "outputId": "1a6cbbb5-7e43-46d1-d570-0ffe9d32a1d1"
      },
      "execution_count": 18,
      "outputs": [
        {
          "output_type": "execute_result",
          "data": {
            "text/plain": [
              "<All keys matched successfully>"
            ]
          },
          "metadata": {},
          "execution_count": 18
        }
      ]
    },
    {
      "cell_type": "markdown",
      "source": [
        "randomly generate a prompt"
      ],
      "metadata": {
        "id": "BpPtgaIrw2Vh"
      }
    },
    {
      "cell_type": "code",
      "source": [
        "filename = \"wonderland.txt\"\n",
        "seq_length = 120\n",
        "raw_text = open(filename, 'r', encoding='utf-8').read()\n",
        "raw_text = raw_text.lower()\n",
        "start = np.random.randint(0, len(raw_text)-seq_length)\n",
        "prompt = raw_text[start:start+seq_length]\n",
        "pattern = [char_to_int[c] for c in prompt]"
      ],
      "metadata": {
        "id": "7-YADppSwwS3"
      },
      "execution_count": 41,
      "outputs": []
    },
    {
      "cell_type": "code",
      "source": [
        "model.eval()\n",
        "print('Prompt: {:s}'.format(prompt))"
      ],
      "metadata": {
        "colab": {
          "base_uri": "https://localhost:8080/"
        },
        "id": "A8T_GLxI5DEI",
        "outputId": "c6e2022f-b2ff-4e5f-ab87-6c31b5f21c1b"
      },
      "execution_count": 42,
      "outputs": [
        {
          "output_type": "stream",
          "name": "stdout",
          "text": [
            "Prompt: ring of feet on the stairs. alice knew it was\n",
            "the rabbit coming to look for her, and she trembled till she shook the\n",
            "hou\n"
          ]
        }
      ]
    },
    {
      "cell_type": "code",
      "source": [
        "with torch.no_grad():\n",
        "  for i in range(1000):\n",
        "    x = np.reshape(pattern,(1,len(pattern),1)) / float(n_vocab)\n",
        "    x = torch.tensor(x, dtype=torch.float32)\n",
        "    # get the logits as output from the trained model\n",
        "    preds = model(x.to(device))\n",
        "    # convert the digits into the corresponding character\n",
        "    index = int(preds.argmax())\n",
        "    result = int_to_char[index]\n",
        "    print(result, end='') # not to print a new line\n",
        "    # append the new char into the prompt for the next iteration\n",
        "    pattern.append(index)\n",
        "    pattern = pattern[1:]\n",
        "\n",
        "print()\n",
        "print('text generation done...')"
      ],
      "metadata": {
        "colab": {
          "base_uri": "https://localhost:8080/"
        },
        "id": "fEnzpjyZ5fgD",
        "outputId": "1d1e9032-a17f-4eff-b3cf-4ce63ec6a784"
      },
      "execution_count": 43,
      "outputs": [
        {
          "output_type": "stream",
          "name": "stdout",
          "text": [
            "se, and was so suickly as she was soo with the soog,\n",
            "\n",
            "'i dan teem to see allce!' she said to herself, 'it was a little bisd and she would be on time to see it would be teen the would be soiether.\n",
            "\n",
            "\n",
            "'i dan teel to say that ' said the mock turtle, 'she was a little bill was ont and said, 'it was a little bisd and she would be all down the cook, and the sold of the mock turtle iad a pearled in a linute or two, she was soo with the pueen of the soeet her fead in the was soon the words: \n",
            "'i dan teem to see allce!' she said to herself, 'it was a little bisd and she would be on time to see it would be teen the would be soiether.\n",
            "\n",
            "\n",
            "'i dan teel to say that ' said the mock turtle, 'she was a little bill was ont and said, 'it was a little bisd and she would be all down the cook, and the sold of the mock turtle iad a pearled in a linute or two, she was soo with the pueen of the soeet her fead in the was soon the words: \n",
            "'i dan teem to see allce!' she said to herself, 'it was a little bisd and she \n",
            "text generation done...\n"
          ]
        }
      ]
    }
  ]
}